{
 "cells": [
  {
   "cell_type": "markdown",
   "metadata": {},
   "source": [
    "# Ques # 01:  Define Object Oriented Programming Language?\n",
    "\n",
    "\n",
    "Ans:Object Oriented Programming (OOP) is a practice , is a way how to coding. It is a domain or a paradigm that where we get benefits. OOP is based on object and classes in the real world scenario.\n",
    "For example :\n",
    "A car having multiple attributes like  tyres ,doors,stairing,wheels,seats etc  each attribute of a car is an object and a car is a class.\n",
    "Class : it is a place where the behaviors and attributes related to the object is defined. class is the collection of objects. \n",
    "Object : implement the class in the real world. Object is the instance of class. Object is made from data and function.\n",
    "Function : if mobile is an object , calling messaging audio video is the functions of an object.\n",
    "Attributes : Color, price , size is attributes of an object(mobile)\n",
    "Data  : when object is created , object possesses the data.\n",
    "\n",
    "In OOP class a template in which objects’s attribute and behavior exist and object implement it in the real world , when program run objects message pass to communicate with other objects. \n",
    "\n",
    "OOP has 4 pillar :\n",
    "    1. Inheritance : parent and child class occurred. Child class can access attributes of parent class while parent class cannot access the drived class attributes. inheritance also used as a reusability.\n",
    "    2. Polymorphism : in polymorphism Object can be processed differently according to the provided data. For example if a function name shape it can be used as a shape of triangle, shape of circle , shape of square according to the given data is called polymorphism\n",
    "    3. Abstraction: Showing only related info and hiding unnecessary information.\n",
    "Abstract class must having abstract method as well can have concrete method but normal classes cannot have abstract methods. \n",
    "    4. Encapsulation : data hiding. Who can see the data and from whose data is hide.\n",
    "        a. Public\n",
    "        b. Private\n",
    "        c. Protected\n",
    "        d. Default\n",
    "\n"
   ]
  },
  {
   "cell_type": "markdown",
   "metadata": {},
   "source": [
    "# Ques 02 : List down the Benefits of OOP?\n",
    "\n",
    "Ans : Advantages/Benefits of OOP : \n",
    "    • Code reuse\n",
    "    • Data encapsulation\n",
    "    • Very good for GUI applications\n",
    "    • Easy to build real-world applications\n",
    "    • Easy to maintain a software\n",
    "\n",
    "\n",
    "\n",
    "\n",
    "\n",
    "\n",
    "\n",
    "\n"
   ]
  },
  {
   "cell_type": "markdown",
   "metadata": {},
   "source": [
    "# Ques # 03 : Differentiate between function and method?\n",
    "Ans : \n",
    "FUNCTIONS:                                                       \n",
    "                                                                                                \n",
    "Functions can be call directly                             \n",
    "without creating an object \n",
    "\n",
    "METHODS:\n",
    "\n",
    "Methods call by methods\n",
    "                                \n",
    " "
   ]
  },
  {
   "cell_type": "markdown",
   "metadata": {},
   "source": [
    "# Question 4:  Define the following terms:\n",
    "    1. Class \n",
    "    2. Object \n",
    "    3. Attribute \n",
    "    4. Behavior \n",
    "\n",
    "Ans : \n",
    "Class:\n",
    "\n",
    "class has the bluprints of all objects. The place where the behaviors and attributes related  to the objects are defined. Class is the collection of objects.\n",
    "\n",
    "\n",
    "Object :\n",
    "\n",
    "object is the instance of class. It impelement the class in the real world. Object is made from the functions and data.\n",
    "\n",
    "\n",
    "Attribute :\n",
    "\n",
    "Every class contains attributes and behaviors. Attributes are the characteristics of the class that help to distinguish it from other classes. \n",
    "\n",
    "\n",
    "Behavior :\n",
    "\n",
    "Behaviors are the tasks that an object performs. A person's attributes, for example, include their age, name, and height, while their behaviors include the fact that a person can speak, run, walk, and eat."
   ]
  },
  {
   "cell_type": "markdown",
   "metadata": {},
   "source": [
    "# Question 5:"
   ]
  },
  {
   "cell_type": "code",
   "execution_count": 21,
   "metadata": {},
   "outputs": [],
   "source": [
    "class Car:\n",
    "    def __init__(self, brand, model, color):\n",
    "        self.brand = brand\n",
    "        self.model = model\n",
    "        self.color = color\n",
    "        self.meter_reading = 0\n",
    "        self.fuel = 20\n",
    "        \n",
    "    def get_description_name(self):\n",
    "        return f'My new car is {self.brand} {self.model} in {self.color}'\n",
    "    def read_meter_reading(self):\n",
    "        return f'the reading on the meter is {self.meter_reading}'\n",
    "    def update_meter_reading(self, mileage):\n",
    "        if self.meter_reading < mileage:\n",
    "            self.meter_reading = mileage\n",
    "            print(\"Meter reading has been updated\")\n",
    "        else:\n",
    "            print(\"Meter reading cannot be updated\")\n",
    "    def increment_meter_reading (self, miles):\n",
    "        self.meter_reading+=miles\n",
    "        print(f\"You have incremented {miles} miles\")\n",
    "    def decrement_meter_reading(self, miles):\n",
    "        self.meter_reading-=miles\n",
    "        print(f\"You have decremented {miles} miles\")\n",
    "    def get_fuel(self):\n",
    "        print(f\"This car has {self.fuel} ltrs fuel\")"
   ]
  },
  {
   "cell_type": "code",
   "execution_count": 22,
   "metadata": {},
   "outputs": [
    {
     "data": {
      "text/plain": [
       "'My new car is Toyota Aqua 2019 in White'"
      ]
     },
     "execution_count": 22,
     "metadata": {},
     "output_type": "execute_result"
    }
   ],
   "source": [
    "car1 = Car(\"Toyota Aqua\",2019,\"White\")\n",
    "car1.get_description_name()"
   ]
  },
  {
   "cell_type": "code",
   "execution_count": 23,
   "metadata": {},
   "outputs": [
    {
     "data": {
      "text/plain": [
       "'the reading on the meter is 0'"
      ]
     },
     "execution_count": 23,
     "metadata": {},
     "output_type": "execute_result"
    }
   ],
   "source": [
    "car2 = car1\n",
    "car2.read_meter_reading()"
   ]
  },
  {
   "cell_type": "code",
   "execution_count": 24,
   "metadata": {},
   "outputs": [
    {
     "name": "stdout",
     "output_type": "stream",
     "text": [
      "Meter reading has been updated\n"
     ]
    }
   ],
   "source": [
    "car2.update_meter_reading(180)\n"
   ]
  },
  {
   "cell_type": "code",
   "execution_count": 25,
   "metadata": {},
   "outputs": [
    {
     "data": {
      "text/plain": [
       "'the reading on the meter is 180'"
      ]
     },
     "execution_count": 25,
     "metadata": {},
     "output_type": "execute_result"
    }
   ],
   "source": [
    "car2.read_meter_reading()\n"
   ]
  },
  {
   "cell_type": "code",
   "execution_count": 26,
   "metadata": {},
   "outputs": [
    {
     "name": "stdout",
     "output_type": "stream",
     "text": [
      "You have incremented 50 miles\n"
     ]
    }
   ],
   "source": [
    "car2.increment_meter_reading(50)\n"
   ]
  },
  {
   "cell_type": "code",
   "execution_count": 27,
   "metadata": {},
   "outputs": [
    {
     "data": {
      "text/plain": [
       "'the reading on the meter is 230'"
      ]
     },
     "execution_count": 27,
     "metadata": {},
     "output_type": "execute_result"
    }
   ],
   "source": [
    "car2.read_meter_reading()\n"
   ]
  },
  {
   "cell_type": "code",
   "execution_count": 28,
   "metadata": {},
   "outputs": [
    {
     "name": "stdout",
     "output_type": "stream",
     "text": [
      "You have decremented 30 miles\n"
     ]
    }
   ],
   "source": [
    "car2.decrement_meter_reading(30)\n"
   ]
  },
  {
   "cell_type": "code",
   "execution_count": 31,
   "metadata": {},
   "outputs": [
    {
     "data": {
      "text/plain": [
       "'the reading on the meter is 200'"
      ]
     },
     "execution_count": 31,
     "metadata": {},
     "output_type": "execute_result"
    }
   ],
   "source": [
    "car2.read_meter_reading()\n"
   ]
  },
  {
   "cell_type": "code",
   "execution_count": 32,
   "metadata": {},
   "outputs": [
    {
     "name": "stdout",
     "output_type": "stream",
     "text": [
      "This car has 20 ltrs fuel\n"
     ]
    }
   ],
   "source": [
    "car2.get_fuel()\n"
   ]
  },
  {
   "cell_type": "code",
   "execution_count": null,
   "metadata": {},
   "outputs": [],
   "source": []
  }
 ],
 "metadata": {
  "kernelspec": {
   "display_name": "Python 3",
   "language": "python",
   "name": "python3"
  },
  "language_info": {
   "codemirror_mode": {
    "name": "ipython",
    "version": 3
   },
   "file_extension": ".py",
   "mimetype": "text/x-python",
   "name": "python",
   "nbconvert_exporter": "python",
   "pygments_lexer": "ipython3",
   "version": "3.7.3"
  }
 },
 "nbformat": 4,
 "nbformat_minor": 2
}
