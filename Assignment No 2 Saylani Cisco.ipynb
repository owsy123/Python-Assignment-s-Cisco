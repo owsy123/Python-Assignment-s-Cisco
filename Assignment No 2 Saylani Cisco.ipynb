{
 "cells": [
  {
   "cell_type": "code",
   "execution_count": 17,
   "metadata": {},
   "outputs": [
    {
     "name": "stdout",
     "output_type": "stream",
     "text": [
      "Enter marks of the first subject marks: 70\n",
      "Enter marks of the second subject marks: 75\n",
      "Enter marks of the third subject marks: 78\n",
      "Enter marks of the fourth subject marks: 74\n",
      "Enter marks of the fifth subject marks: 73\n",
      "Grade: A-one\n"
     ]
    }
   ],
   "source": [
    "sub1=int(input(\"Enter marks of the first subject marks: \"))\n",
    "sub2=int(input(\"Enter marks of the second subject marks: \"))\n",
    "sub3=int(input(\"Enter marks of the third subject marks: \"))\n",
    "sub4=int(input(\"Enter marks of the fourth subject marks: \"))\n",
    "sub5=int(input(\"Enter marks of the fifth subject marks: \"))\n",
    "avg=(sub1+sub2+sub3+sub4+sub4)/5\n",
    "if(avg>=90):\n",
    "    print(\"Grade: A+\")\n",
    "elif(avg>=80,avg<=90):\n",
    "    print(\"Grade: A-one\")\n",
    "elif(avg>=70,avg<=80):\n",
    "    print(\"Grade: A\")\n",
    "elif(avg>=60,avg<=70):\n",
    "    print(\"Grade: B\")\n",
    "elif(avg>=50,avg<=60):\n",
    "    print(\"Grade: C\")\n",
    "elif(avg>=40,avg<=50):\n",
    "    print(\"Grade: D\")\n",
    "else:\n",
    "    print(\"Grade: F\")"
   ]
  },
  {
   "cell_type": "code",
   "execution_count": 6,
   "metadata": {},
   "outputs": [
    {
     "name": "stdout",
     "output_type": "stream",
     "text": [
      "Enter a number: 5\n",
      "This is an odd number.\n"
     ]
    }
   ],
   "source": [
    "num = int(input(\"Enter a number: \"))\n",
    "mod = num % 2\n",
    "if mod > 0:\n",
    "    print(\"This is an odd number.\")\n",
    "else:\n",
    "    print(\"This is an even number.\")"
   ]
  },
  {
   "cell_type": "code",
   "execution_count": 7,
   "metadata": {},
   "outputs": [
    {
     "name": "stdout",
     "output_type": "stream",
     "text": [
      "The list is : [1, 4, 5, 7, 8]\n",
      "Length of list using len() is : 5\n",
      "Length of list using length_hint() is : 5\n"
     ]
    }
   ],
   "source": [
    "from operator import length_hint   \n",
    "test_list = [ 1, 4, 5, 7, 8 ] \n",
    "print (\"The list is : \" + str(test_list)) \n",
    "  \n",
    "list_len = len(test_list) \n",
    "  \n",
    "list_len_hint = length_hint(test_list) \n",
    "  \n",
    "print (\"Length of list using len() is : \" + str(list_len)) \n",
    "print (\"Length of list using length_hint() is : \" + str(list_len_hint)) \n"
   ]
  },
  {
   "cell_type": "code",
   "execution_count": 8,
   "metadata": {},
   "outputs": [
    {
     "name": "stdout",
     "output_type": "stream",
     "text": [
      "-7\n"
     ]
    }
   ],
   "source": [
    "def sum_list(items):\n",
    "    sum_numbers = 0\n",
    "    for x in items:\n",
    "        sum_numbers += x\n",
    "    return sum_numbers\n",
    "print(sum_list([1,2,-10]))"
   ]
  },
  {
   "cell_type": "code",
   "execution_count": 9,
   "metadata": {},
   "outputs": [
    {
     "name": "stdout",
     "output_type": "stream",
     "text": [
      "Largest element is: 99\n"
     ]
    }
   ],
   "source": [
    "list1 = [10, 20, 4, 48, 99]  \n",
    "print(\"Largest element is:\", max(list1)) "
   ]
  },
  {
   "cell_type": "code",
   "execution_count": 10,
   "metadata": {},
   "outputs": [
    {
     "name": "stdout",
     "output_type": "stream",
     "text": [
      "[1, 1, 2]\n"
     ]
    }
   ],
   "source": [
    "def elements_lessthan_five(l):\n",
    "    l1=[]\n",
    "    for i in l:\n",
    "        if i<5:\n",
    "            l1.append(i)\n",
    "            \n",
    "    return(l1)\n",
    "    \n",
    "print(elements_lessthan_five([1, 1, 2, 8, 5, 8, 13, 51, 34, 55, 89]))"
   ]
  },
  {
   "cell_type": "code",
   "execution_count": null,
   "metadata": {},
   "outputs": [],
   "source": []
  }
 ],
 "metadata": {
  "kernelspec": {
   "display_name": "Python 3",
   "language": "python",
   "name": "python3"
  },
  "language_info": {
   "codemirror_mode": {
    "name": "ipython",
    "version": 3
   },
   "file_extension": ".py",
   "mimetype": "text/x-python",
   "name": "python",
   "nbconvert_exporter": "python",
   "pygments_lexer": "ipython3",
   "version": "3.7.3"
  }
 },
 "nbformat": 4,
 "nbformat_minor": 2
}
