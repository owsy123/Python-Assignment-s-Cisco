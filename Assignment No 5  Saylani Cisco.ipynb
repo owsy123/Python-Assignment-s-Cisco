{
 "cells": [
  {
   "cell_type": "code",
   "execution_count": 3,
   "metadata": {},
   "outputs": [
    {
     "data": {
      "text/plain": [
       "'factorial of 6 is 720'"
      ]
     },
     "execution_count": 3,
     "metadata": {},
     "output_type": "execute_result"
    }
   ],
   "source": [
    "def factorial(num):\n",
    "    fact = 1\n",
    "    if num >0:\n",
    "        for i in range(1,num+1): \n",
    "            fact = fact * i\n",
    "        return f\"factorial of {num} is {fact}\"\n",
    "    elif num == 0:\n",
    "        return f\"factorial of {num} is {fact}\"\n",
    "    else:\n",
    "        return \"Factorial of negative number is not possible\"\n",
    "factorial(6)"
   ]
  },
  {
   "cell_type": "code",
   "execution_count": 4,
   "metadata": {},
   "outputs": [],
   "source": [
    "def letterCount(text):\n",
    "    upperCount = 0\n",
    "    lowerCount = 0\n",
    "    for letter in text:\n",
    "        if letter.isupper() == True:\n",
    "            upperCount += 1\n",
    "        elif letter.islower() == True:\n",
    "            lowerCount += 1\n",
    "        else:\n",
    "            upperCount +=0\n",
    "            lowerCount +=0\n",
    "    return f\"The number of upper case letter is {upperCount} and The number of lower case letter is {lowerCount} \""
   ]
  },
  {
   "cell_type": "code",
   "execution_count": 6,
   "metadata": {},
   "outputs": [
    {
     "data": {
      "text/plain": [
       "'The number of upper case letter is 4 and The number of lower case letter is 25 '"
      ]
     },
     "execution_count": 6,
     "metadata": {},
     "output_type": "execute_result"
    }
   ],
   "source": [
    "text  = \"Saylani is Doing the Wondeful Work\"\n",
    "letterCount(text)"
   ]
  },
  {
   "cell_type": "code",
   "execution_count": 7,
   "metadata": {},
   "outputs": [
    {
     "data": {
      "text/plain": [
       "[2, 34, 56]"
      ]
     },
     "execution_count": 7,
     "metadata": {},
     "output_type": "execute_result"
    }
   ],
   "source": [
    "def evenFunc(list):\n",
    "    even_list = []\n",
    "    for even in list:\n",
    "        if even % 2 == 0:\n",
    "            even_list.append(even)\n",
    "    return even_list\n",
    "list = [1, 2 ,23 ,34, 56, 71]\n",
    "evenFunc(list)\n"
   ]
  },
  {
   "cell_type": "code",
   "execution_count": 8,
   "metadata": {},
   "outputs": [
    {
     "data": {
      "text/plain": [
       "'It is palindrome'"
      ]
     },
     "execution_count": 8,
     "metadata": {},
     "output_type": "execute_result"
    }
   ],
   "source": [
    "def palindrome(data):\n",
    "    if data[::] == data[::-1]:\n",
    "        return \"It is palindrome\"\n",
    "    else:\n",
    "        return \"It is not a palindrome\"\n",
    "palindrome(\"madam\")"
   ]
  },
  {
   "cell_type": "code",
   "execution_count": 9,
   "metadata": {},
   "outputs": [
    {
     "data": {
      "text/plain": [
       "'It is not a palindrome'"
      ]
     },
     "execution_count": 9,
     "metadata": {},
     "output_type": "execute_result"
    }
   ],
   "source": [
    "palindrome(\"hi\")\n"
   ]
  },
  {
   "cell_type": "code",
   "execution_count": 10,
   "metadata": {},
   "outputs": [
    {
     "data": {
      "text/plain": [
       "'It is palindrome'"
      ]
     },
     "execution_count": 10,
     "metadata": {},
     "output_type": "execute_result"
    }
   ],
   "source": [
    "palindrome(\"mam\")\n"
   ]
  },
  {
   "cell_type": "code",
   "execution_count": 11,
   "metadata": {},
   "outputs": [
    {
     "data": {
      "text/plain": [
       "'It is a prime number'"
      ]
     },
     "execution_count": 11,
     "metadata": {},
     "output_type": "execute_result"
    }
   ],
   "source": [
    "def primeNumber(num):\n",
    "    for i in range(2, num):\n",
    "        if num > 1:\n",
    "            if num % i == 0:\n",
    "                return \"It is not a prime number\"\n",
    "            else:\n",
    "                return \"It is a prime number\"\n",
    "            \n",
    "    return \"It is not a prime number\"\n",
    "primeNumber(3)"
   ]
  },
  {
   "cell_type": "code",
   "execution_count": 13,
   "metadata": {},
   "outputs": [
    {
     "data": {
      "text/plain": [
       "'It is not a prime number'"
      ]
     },
     "execution_count": 13,
     "metadata": {},
     "output_type": "execute_result"
    }
   ],
   "source": [
    "primeNumber(8)\n"
   ]
  },
  {
   "cell_type": "code",
   "execution_count": 14,
   "metadata": {},
   "outputs": [
    {
     "name": "stdout",
     "output_type": "stream",
     "text": [
      "gloves\n",
      "shirt\n",
      "pant\n"
     ]
    }
   ],
   "source": [
    "def shoppingCart(*args):\n",
    "    for arg in args:\n",
    "        print(arg)\n",
    "shoppingCart(\"gloves\", \"shirt\", \"pant\")"
   ]
  },
  {
   "cell_type": "code",
   "execution_count": 15,
   "metadata": {},
   "outputs": [
    {
     "data": {
      "text/plain": [
       "'/home/owais'"
      ]
     },
     "execution_count": 15,
     "metadata": {},
     "output_type": "execute_result"
    }
   ],
   "source": [
    "pwd\n"
   ]
  },
  {
   "cell_type": "code",
   "execution_count": null,
   "metadata": {},
   "outputs": [],
   "source": []
  }
 ],
 "metadata": {
  "kernelspec": {
   "display_name": "Python 3",
   "language": "python",
   "name": "python3"
  },
  "language_info": {
   "codemirror_mode": {
    "name": "ipython",
    "version": 3
   },
   "file_extension": ".py",
   "mimetype": "text/x-python",
   "name": "python",
   "nbconvert_exporter": "python",
   "pygments_lexer": "ipython3",
   "version": "3.7.3"
  }
 },
 "nbformat": 4,
 "nbformat_minor": 2
}
