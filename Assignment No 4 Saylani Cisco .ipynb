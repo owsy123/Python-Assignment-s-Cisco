{
 "cells": [
  {
   "cell_type": "code",
   "execution_count": 2,
   "metadata": {},
   "outputs": [
    {
     "name": "stdout",
     "output_type": "stream",
     "text": [
      "Muhammad\n",
      "Owais\n",
      "19\n",
      "Karachi\n"
     ]
    }
   ],
   "source": [
    "\n",
    "person = {\n",
    "    'first_name': 'Muhammad',\n",
    "    'last_name': 'Owais',\n",
    "    'age': 19,\n",
    "    'city': 'Karachi',\n",
    "    }\n",
    "\n",
    "print(person['first_name'])\n",
    "print(person['last_name'])\n",
    "print(person['age'])\n",
    "print(person['city'])"
   ]
  },
  {
   "cell_type": "code",
   "execution_count": 4,
   "metadata": {},
   "outputs": [
    {
     "name": "stdout",
     "output_type": "stream",
     "text": [
      "\n",
      "Ali Raza is in Australia.\n",
      "  It has a population of about 92118.\n",
      "  The Austria mountains are nearby.\n",
      "\n",
      "Usman Khan is in Nipal.\n",
      "  It has a population of about 4554.\n",
      "  The Mount Avarist mountains are nearby.\n",
      "\n",
      "Muhammad Owais is in Paikistan.\n",
      "  It has a population of about 42101.\n",
      "  The K2 mountains are nearby.\n"
     ]
    }
   ],
   "source": [
    "cities = {\n",
    "    'Ali Raza': {\n",
    "        'country': 'Australia',\n",
    "        'population': 92118,\n",
    "        'nearby mountains': 'Austria',\n",
    "        },\n",
    "    'Usman Khan': {\n",
    "        'country': 'Nipal',\n",
    "        'population': 4554,\n",
    "        'nearby mountains': 'Mount Avarist',\n",
    "        },\n",
    "    'Muhammad Owais': {\n",
    "        'country': 'Paikistan',\n",
    "        'population': 42101,\n",
    "        'nearby mountains': 'K2',\n",
    "        }\n",
    "    }\n",
    "\n",
    "for city, city_info in cities.items():\n",
    "    country = city_info['country'].title()\n",
    "    population = city_info['population']\n",
    "    mountains = city_info['nearby mountains'].title()\n",
    "\n",
    "    print(\"\\n\" + city.title() + \" is in \" + country + \".\")\n",
    "    print(\"  It has a population of about \" + str(population) + \".\")\n",
    "    print(\"  The \" + mountains + \" mountains are nearby.\")"
   ]
  },
  {
   "cell_type": "code",
   "execution_count": 5,
   "metadata": {},
   "outputs": [
    {
     "name": "stdout",
     "output_type": "stream",
     "text": [
      "How old are you?\n",
      "Enter 'quit' when you are finished. 10\n",
      "  Your ticket is $10.\n",
      "How old are you?\n",
      "Enter 'quit' when you are finished. 2\n",
      "  You get in free!\n",
      "How old are you?\n",
      "Enter 'quit' when you are finished. 6\n",
      "  Your ticket is $10.\n",
      "How old are you?\n",
      "Enter 'quit' when you are finished. 4\n",
      "  Your ticket is $10.\n",
      "How old are you?\n",
      "Enter 'quit' when you are finished. 2\n",
      "  You get in free!\n",
      "How old are you?\n",
      "Enter 'quit' when you are finished. quit\n"
     ]
    }
   ],
   "source": [
    "prompt = \"How old are you?\"\n",
    "prompt += \"\\nEnter 'quit' when you are finished. \"\n",
    "\n",
    "while True:\n",
    "    age = input(prompt)\n",
    "    if age == 'quit':\n",
    "        break\n",
    "    age = int(age)\n",
    "\n",
    "    if age < 3:\n",
    "        print(\"  You get in free!\")\n",
    "    elif age < 13:\n",
    "        print(\"  Your ticket is $10.\")\n",
    "    else:\n",
    "        print(\"  Your ticket is $15.\")\n"
   ]
  },
  {
   "cell_type": "code",
   "execution_count": 6,
   "metadata": {},
   "outputs": [
    {
     "name": "stdout",
     "output_type": "stream",
     "text": [
      "Alice in Wonderland is one of my favorite book\n"
     ]
    }
   ],
   "source": [
    "def favorite_book(title):\n",
    "    \"\"\"Display a message about someone's favorite book.\"\"\"\n",
    "    print(title + \" is one of my favorite book\")\n",
    "\n",
    "favorite_book('Alice in Wonderland')"
   ]
  },
  {
   "cell_type": "code",
   "execution_count": 7,
   "metadata": {},
   "outputs": [
    {
     "name": "stdout",
     "output_type": "stream",
     "text": [
      "Guess a number between 1 and 100\n",
      "5\n",
      "Try Higher\n",
      "Guess a number between 1 and 100\n",
      "500\n",
      "Try Lower\n",
      "Guess a number between 1 and 100\n",
      "50\n",
      "Try Lower\n",
      "Guess a number between 1 and 100\n",
      "40\n",
      "Try Lower\n",
      "Guess a number between 1 and 100\n",
      "30\n",
      "Try Lower\n",
      "Guess a number between 1 and 100\n",
      "20\n",
      "Try Higher\n",
      "Guess a number between 1 and 100\n",
      "25\n",
      "Try Higher\n",
      "Guess a number between 1 and 100\n",
      "26\n",
      "Try Higher\n",
      "Guess a number between 1 and 100\n",
      "28\n",
      "You won!!!\n",
      "if you gussed less than 6 times you won\n"
     ]
    }
   ],
   "source": [
    "import random\n",
    "num = random.randint(1, 100)\n",
    "while True:\n",
    "    print('Guess a number between 1 and 100')\n",
    "    guess = input()\n",
    "    i = int(guess)\n",
    "    if i == num:\n",
    "        print('You won!!!')\n",
    "        break\n",
    "    elif i < num:\n",
    "               print('Try Higher')\n",
    "    elif i > num:\n",
    "               print('Try Lower')\n",
    "#any recommendations for the game end\n",
    "print('if you gussed less than 6 times you won')"
   ]
  },
  {
   "cell_type": "code",
   "execution_count": null,
   "metadata": {},
   "outputs": [],
   "source": []
  }
 ],
 "metadata": {
  "kernelspec": {
   "display_name": "Python 3",
   "language": "python",
   "name": "python3"
  },
  "language_info": {
   "codemirror_mode": {
    "name": "ipython",
    "version": 3
   },
   "file_extension": ".py",
   "mimetype": "text/x-python",
   "name": "python",
   "nbconvert_exporter": "python",
   "pygments_lexer": "ipython3",
   "version": "3.7.3"
  }
 },
 "nbformat": 4,
 "nbformat_minor": 2
}
